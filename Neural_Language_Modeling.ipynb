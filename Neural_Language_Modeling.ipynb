{
 "cells": [
  {
   "cell_type": "markdown",
   "metadata": {},
   "source": [
    "# Neural Language Modeling"
   ]
  },
  {
   "cell_type": "code",
   "execution_count": 1,
   "metadata": {},
   "outputs": [],
   "source": [
    "import pandas as pd"
   ]
  },
  {
   "cell_type": "code",
   "execution_count": 2,
   "metadata": {},
   "outputs": [],
   "source": [
    "df = pd.read_csv('data/ratings_train.txt', sep='\\t')"
   ]
  },
  {
   "cell_type": "code",
   "execution_count": 3,
   "metadata": {},
   "outputs": [
    {
     "data": {
      "text/html": [
       "<div>\n",
       "<style scoped>\n",
       "    .dataframe tbody tr th:only-of-type {\n",
       "        vertical-align: middle;\n",
       "    }\n",
       "\n",
       "    .dataframe tbody tr th {\n",
       "        vertical-align: top;\n",
       "    }\n",
       "\n",
       "    .dataframe thead th {\n",
       "        text-align: right;\n",
       "    }\n",
       "</style>\n",
       "<table border=\"1\" class=\"dataframe\">\n",
       "  <thead>\n",
       "    <tr style=\"text-align: right;\">\n",
       "      <th></th>\n",
       "      <th>id</th>\n",
       "      <th>document</th>\n",
       "      <th>label</th>\n",
       "    </tr>\n",
       "  </thead>\n",
       "  <tbody>\n",
       "    <tr>\n",
       "      <th>0</th>\n",
       "      <td>9976970</td>\n",
       "      <td>아 더빙.. 진짜 짜증나네요 목소리</td>\n",
       "      <td>0</td>\n",
       "    </tr>\n",
       "    <tr>\n",
       "      <th>1</th>\n",
       "      <td>3819312</td>\n",
       "      <td>흠...포스터보고 초딩영화줄....오버연기조차 가볍지 않구나</td>\n",
       "      <td>1</td>\n",
       "    </tr>\n",
       "    <tr>\n",
       "      <th>2</th>\n",
       "      <td>10265843</td>\n",
       "      <td>너무재밓었다그래서보는것을추천한다</td>\n",
       "      <td>0</td>\n",
       "    </tr>\n",
       "    <tr>\n",
       "      <th>3</th>\n",
       "      <td>9045019</td>\n",
       "      <td>교도소 이야기구먼 ..솔직히 재미는 없다..평점 조정</td>\n",
       "      <td>0</td>\n",
       "    </tr>\n",
       "    <tr>\n",
       "      <th>4</th>\n",
       "      <td>6483659</td>\n",
       "      <td>사이몬페그의 익살스런 연기가 돋보였던 영화!스파이더맨에서 늙어보이기만 했던 커스틴 ...</td>\n",
       "      <td>1</td>\n",
       "    </tr>\n",
       "  </tbody>\n",
       "</table>\n",
       "</div>"
      ],
      "text/plain": [
       "         id                                           document  label\n",
       "0   9976970                                아 더빙.. 진짜 짜증나네요 목소리      0\n",
       "1   3819312                  흠...포스터보고 초딩영화줄....오버연기조차 가볍지 않구나      1\n",
       "2  10265843                                  너무재밓었다그래서보는것을추천한다      0\n",
       "3   9045019                      교도소 이야기구먼 ..솔직히 재미는 없다..평점 조정      0\n",
       "4   6483659  사이몬페그의 익살스런 연기가 돋보였던 영화!스파이더맨에서 늙어보이기만 했던 커스틴 ...      1"
      ]
     },
     "execution_count": 3,
     "metadata": {},
     "output_type": "execute_result"
    }
   ],
   "source": [
    "df.head()"
   ]
  },
  {
   "cell_type": "code",
   "execution_count": 4,
   "metadata": {},
   "outputs": [
    {
     "data": {
      "text/plain": [
       "(150000, 3)"
      ]
     },
     "execution_count": 4,
     "metadata": {},
     "output_type": "execute_result"
    }
   ],
   "source": [
    "df.shape"
   ]
  },
  {
   "cell_type": "code",
   "execution_count": 5,
   "metadata": {},
   "outputs": [
    {
     "data": {
      "text/plain": [
       "label\n",
       "0    75173\n",
       "1    74827\n",
       "Name: count, dtype: int64"
      ]
     },
     "execution_count": 5,
     "metadata": {},
     "output_type": "execute_result"
    }
   ],
   "source": [
    "df['label'].value_counts()"
   ]
  },
  {
   "cell_type": "code",
   "execution_count": 6,
   "metadata": {},
   "outputs": [
    {
     "data": {
      "text/plain": [
       "id          0\n",
       "document    5\n",
       "label       0\n",
       "dtype: int64"
      ]
     },
     "execution_count": 6,
     "metadata": {},
     "output_type": "execute_result"
    }
   ],
   "source": [
    "df.isna().sum()"
   ]
  },
  {
   "cell_type": "code",
   "execution_count": 7,
   "metadata": {},
   "outputs": [
    {
     "data": {
      "text/html": [
       "<div>\n",
       "<style scoped>\n",
       "    .dataframe tbody tr th:only-of-type {\n",
       "        vertical-align: middle;\n",
       "    }\n",
       "\n",
       "    .dataframe tbody tr th {\n",
       "        vertical-align: top;\n",
       "    }\n",
       "\n",
       "    .dataframe thead th {\n",
       "        text-align: right;\n",
       "    }\n",
       "</style>\n",
       "<table border=\"1\" class=\"dataframe\">\n",
       "  <thead>\n",
       "    <tr style=\"text-align: right;\">\n",
       "      <th></th>\n",
       "      <th>id</th>\n",
       "      <th>document</th>\n",
       "      <th>label</th>\n",
       "    </tr>\n",
       "  </thead>\n",
       "  <tbody>\n",
       "    <tr>\n",
       "      <th>25857</th>\n",
       "      <td>2172111</td>\n",
       "      <td>NaN</td>\n",
       "      <td>1</td>\n",
       "    </tr>\n",
       "    <tr>\n",
       "      <th>55737</th>\n",
       "      <td>6369843</td>\n",
       "      <td>NaN</td>\n",
       "      <td>1</td>\n",
       "    </tr>\n",
       "    <tr>\n",
       "      <th>110014</th>\n",
       "      <td>1034280</td>\n",
       "      <td>NaN</td>\n",
       "      <td>0</td>\n",
       "    </tr>\n",
       "    <tr>\n",
       "      <th>126782</th>\n",
       "      <td>5942978</td>\n",
       "      <td>NaN</td>\n",
       "      <td>0</td>\n",
       "    </tr>\n",
       "    <tr>\n",
       "      <th>140721</th>\n",
       "      <td>1034283</td>\n",
       "      <td>NaN</td>\n",
       "      <td>0</td>\n",
       "    </tr>\n",
       "  </tbody>\n",
       "</table>\n",
       "</div>"
      ],
      "text/plain": [
       "             id document  label\n",
       "25857   2172111      NaN      1\n",
       "55737   6369843      NaN      1\n",
       "110014  1034280      NaN      0\n",
       "126782  5942978      NaN      0\n",
       "140721  1034283      NaN      0"
      ]
     },
     "execution_count": 7,
     "metadata": {},
     "output_type": "execute_result"
    }
   ],
   "source": [
    "df.loc[df['document'].isna(), :]"
   ]
  },
  {
   "cell_type": "code",
   "execution_count": 8,
   "metadata": {},
   "outputs": [],
   "source": [
    "df = df.dropna(how='any', axis=0)"
   ]
  },
  {
   "cell_type": "code",
   "execution_count": 9,
   "metadata": {},
   "outputs": [
    {
     "data": {
      "text/plain": [
       "(149995, 3)"
      ]
     },
     "execution_count": 9,
     "metadata": {},
     "output_type": "execute_result"
    }
   ],
   "source": [
    "df.shape"
   ]
  },
  {
   "cell_type": "markdown",
   "metadata": {},
   "source": [
    "---\n",
    "## Tokenization"
   ]
  },
  {
   "cell_type": "code",
   "execution_count": 10,
   "metadata": {},
   "outputs": [],
   "source": [
    "vocab_cnt_dict = {} \n",
    "for doc in df['document']:\n",
    "    for token in list(doc):\n",
    "        if token not in vocab_cnt_dict:\n",
    "            vocab_cnt_dict[token] = 0\n",
    "        vocab_cnt_dict[token] += 1"
   ]
  },
  {
   "cell_type": "code",
   "execution_count": 11,
   "metadata": {},
   "outputs": [],
   "source": [
    "vocab_cnt_list = [(token, cnt) for token, cnt in vocab_cnt_dict.items()]"
   ]
  },
  {
   "cell_type": "code",
   "execution_count": 12,
   "metadata": {},
   "outputs": [
    {
     "data": {
      "text/plain": [
       "[('아', 47071),\n",
       " (' ', 987741),\n",
       " ('더', 9863),\n",
       " ('빙', 738),\n",
       " ('.', 241461),\n",
       " ('진', 18522),\n",
       " ('짜', 11514),\n",
       " ('증', 2160),\n",
       " ('나', 42976),\n",
       " ('네', 18756)]"
      ]
     },
     "execution_count": 12,
     "metadata": {},
     "output_type": "execute_result"
    }
   ],
   "source": [
    "vocab_cnt_list[:10]"
   ]
  },
  {
   "cell_type": "code",
   "execution_count": 13,
   "metadata": {},
   "outputs": [
    {
     "data": {
      "text/plain": [
       "3004"
      ]
     },
     "execution_count": 13,
     "metadata": {},
     "output_type": "execute_result"
    }
   ],
   "source": [
    "len(vocab_cnt_list)"
   ]
  },
  {
   "cell_type": "code",
   "execution_count": 14,
   "metadata": {},
   "outputs": [],
   "source": [
    "top_vocabs = sorted(vocab_cnt_list, key=lambda tup:tup[1], reverse=True)"
   ]
  },
  {
   "cell_type": "code",
   "execution_count": 15,
   "metadata": {},
   "outputs": [],
   "source": [
    "import matplotlib.pyplot as plt\n",
    "import numpy as np"
   ]
  },
  {
   "cell_type": "code",
   "execution_count": 16,
   "metadata": {},
   "outputs": [],
   "source": [
    "cnts = [cnt for _, cnt in top_vocabs]"
   ]
  },
  {
   "cell_type": "code",
   "execution_count": 17,
   "metadata": {},
   "outputs": [
    {
     "data": {
      "text/plain": [
       "[<matplotlib.lines.Line2D at 0x25ae4938aa0>]"
      ]
     },
     "execution_count": 17,
     "metadata": {},
     "output_type": "execute_result"
    },
    {
     "data": {
      "image/png": "[encoded data removed]",
      "text/plain": [
       "<Figure size 640x480 with 1 Axes>"
      ]
     },
     "metadata": {},
     "output_type": "display_data"
    }
   ],
   "source": [
    "plt.plot(range(len(cnts)), cnts)"
   ]
  },
  {
   "cell_type": "code",
   "execution_count": 18,
   "metadata": {},
   "outputs": [
    {
     "data": {
      "text/plain": [
       "1757.8239014647138"
      ]
     },
     "execution_count": 18,
     "metadata": {},
     "output_type": "execute_result"
    }
   ],
   "source": [
    "np.mean(cnts)"
   ]
  },
  {
   "cell_type": "code",
   "execution_count": 19,
   "metadata": {},
   "outputs": [],
   "source": [
    "vocabs = [token for token, _ in vocab_cnt_list]"
   ]
  },
  {
   "cell_type": "code",
   "execution_count": 20,
   "metadata": {},
   "outputs": [
    {
     "data": {
      "text/plain": [
       "3004"
      ]
     },
     "execution_count": 20,
     "metadata": {},
     "output_type": "execute_result"
    }
   ],
   "source": [
    "len(vocabs)"
   ]
  },
  {
   "cell_type": "markdown",
   "metadata": {},
   "source": [
    "---\n",
    "## Add Special Tokens"
   ]
  },
  {
   "cell_type": "code",
   "execution_count": 21,
   "metadata": {},
   "outputs": [],
   "source": [
    "# pad, unk, sos, eos\n",
    "special_tokens = ['[PAD]', '[UNK]', '[SOS]', '[EOS]']\n",
    "for special_token in special_tokens[::-1]:\n",
    "    vocabs.insert(0, special_token)"
   ]
  },
  {
   "cell_type": "code",
   "execution_count": 22,
   "metadata": {},
   "outputs": [],
   "source": [
    "idx_to_token = vocabs\n",
    "token_to_idx = {token: i for i, token in enumerate(idx_to_token)}"
   ]
  },
  {
   "cell_type": "code",
   "execution_count": 23,
   "metadata": {},
   "outputs": [],
   "source": [
    "class Tokenizer:\n",
    "    def __init__(self,\n",
    "                 vocabs,\n",
    "                 use_padding=True,\n",
    "                 max_padding=64,\n",
    "                 pad_token='[PAD]',\n",
    "                 unk_token='[UNK]',\n",
    "                 sos_token='[SOS]',\n",
    "                 eos_token='[EOS]'):\n",
    "        self.idx_to_token = vocabs\n",
    "        self.token_to_idx = {token: i for i, token in enumerate(self.idx_to_token)}\n",
    "        \n",
    "        self.use_padding = use_padding\n",
    "        self.max_padding = max_padding\n",
    "        \n",
    "        self.pad_token = pad_token\n",
    "        self.unk_token = unk_token\n",
    "        self.sos_token = sos_token\n",
    "        self.eos_token = eos_token\n",
    "        \n",
    "        self.unk_token_idx = self.token_to_idx[self.unk_token]\n",
    "        self.pad_token_idx = self.token_to_idx[self.pad_token]\n",
    "        self.sos_token_idx = self.token_to_idx[self.sos_token]\n",
    "        self.eos_token_idx = self.token_to_idx[self.eos_token]\n",
    "        \n",
    "        \n",
    "    def __call__(self, x):\n",
    "        token_ids = [self.sos_token_idx]\n",
    "        \n",
    "        token_list = list(x)\n",
    "        \n",
    "        for token in token_list:\n",
    "            if token in self.token_to_idx:\n",
    "                token_idx = self.token_to_idx[token]\n",
    "            else:\n",
    "                token_idx = self.unk_token_idx\n",
    "            token_ids.append(token_idx)\n",
    "            \n",
    "        token_ids.append(self.eos_token_idx)\n",
    "            \n",
    "        if self.use_padding:\n",
    "            token_ids.pop()\n",
    "            token_ids = token_ids[:self.max_padding-1]\n",
    "            n_pads = self.max_padding - len(token_ids) - 1\n",
    "            token_ids = token_ids + [self.eos_token_idx] +[self.pad_token_idx] * n_pads\n",
    "        \n",
    "        return token_ids\n",
    "    \n",
    "    def cvt_ids_to_tokens(self, ids):\n",
    "        return [self.idx_to_token[idx] for idx in ids]\n",
    "    \n",
    "    def cvt_ids_to_str(self, ids):\n",
    "        return ''.join([self.idx_to_token[idx] for idx in ids])"
   ]
  },
  {
   "cell_type": "code",
   "execution_count": 24,
   "metadata": {},
   "outputs": [],
   "source": [
    "tokenizer = Tokenizer(vocabs, use_padding=False)"
   ]
  },
  {
   "cell_type": "code",
   "execution_count": 25,
   "metadata": {},
   "outputs": [
    {
     "name": "stdout",
     "output_type": "stream",
     "text": [
      "아 더빙.. 진짜 짜증나네요 목소리\n"
     ]
    }
   ],
   "source": [
    "sample = df['document'].iloc[0]\n",
    "print(sample)"
   ]
  },
  {
   "cell_type": "code",
   "execution_count": 26,
   "metadata": {},
   "outputs": [
    {
     "data": {
      "text/plain": [
       "[2, 4, 5, 6, 7, 8, 8, 5, 9, 10, 5, 10, 11, 12, 13, 14, 5, 15, 16, 17, 3]"
      ]
     },
     "execution_count": 26,
     "metadata": {},
     "output_type": "execute_result"
    }
   ],
   "source": [
    "tokenizer(sample)"
   ]
  },
  {
   "cell_type": "markdown",
   "metadata": {},
   "source": [
    "---\n",
    "## DataLoader"
   ]
  },
  {
   "cell_type": "code",
   "execution_count": 27,
   "metadata": {},
   "outputs": [],
   "source": [
    "import torch\n",
    "from torch.utils.data import Dataset, DataLoader"
   ]
  },
  {
   "cell_type": "code",
   "execution_count": 28,
   "metadata": {},
   "outputs": [],
   "source": [
    "train_valid_df = pd.read_csv('data/ratings_train.txt', sep='\\t')\n",
    "test_df = pd.read_csv('data/ratings_test.txt', sep='\\t')"
   ]
  },
  {
   "cell_type": "code",
   "execution_count": 29,
   "metadata": {},
   "outputs": [
    {
     "data": {
      "text/plain": [
       "((150000, 3), (50000, 3))"
      ]
     },
     "execution_count": 29,
     "metadata": {},
     "output_type": "execute_result"
    }
   ],
   "source": [
    "train_valid_df.shape, test_df.shape"
   ]
  },
  {
   "cell_type": "code",
   "execution_count": 30,
   "metadata": {},
   "outputs": [],
   "source": [
    "train_ratio = 0.8\n",
    "\n",
    "n_train = int(len(train_valid_df) * train_ratio)\n",
    "\n",
    "train_df = train_valid_df[:n_train]\n",
    "valid_df = train_valid_df[n_train:]"
   ]
  },
  {
   "cell_type": "code",
   "execution_count": 31,
   "metadata": {},
   "outputs": [],
   "source": [
    "train_df = train_df.sample(frac=0.01)\n",
    "valid_df = valid_df.sample(frac=0.01)\n",
    "test_df = test_df.sample(frac=0.01)"
   ]
  },
  {
   "cell_type": "code",
   "execution_count": 32,
   "metadata": {},
   "outputs": [],
   "source": [
    "class NSMCDataset(Dataset):\n",
    "    \n",
    "    def __init__(self, data_df, tokenizer=None):\n",
    "        self.data_df = data_df\n",
    "        self.tokenizer = tokenizer\n",
    "        \n",
    "    \n",
    "    def __len__(self):\n",
    "        return len(self.data_df)\n",
    "    \n",
    "    def __getitem__(self, idx):\n",
    "        sample_raw = self.data_df.iloc[idx]\n",
    "        sample = {}\n",
    "        \n",
    "        sample['doc'] = str(sample_raw['document'])\n",
    "        \n",
    "        if self.tokenizer is not None:\n",
    "            sample['doc_ids'] = self.tokenizer(sample['doc']) \n",
    "        \n",
    "        return sample"
   ]
  },
  {
   "cell_type": "code",
   "execution_count": 33,
   "metadata": {},
   "outputs": [],
   "source": [
    "def collate_fn(batch):\n",
    "    keys = [key for key in batch[0].keys()]\n",
    "    data = {key: [] for key in keys}\n",
    "\n",
    "    for item in batch:\n",
    "        for key in keys:\n",
    "            data[key].append(item[key])\n",
    "    return data"
   ]
  },
  {
   "cell_type": "code",
   "execution_count": 34,
   "metadata": {},
   "outputs": [],
   "source": [
    "train_dataset = NSMCDataset(data_df=train_df, tokenizer=tokenizer)\n",
    "valid_dataset = NSMCDataset(data_df=valid_df, tokenizer=tokenizer)\n",
    "test_dataset = NSMCDataset(data_df=test_df, tokenizer=tokenizer)\n",
    "\n",
    "train_dataloader= DataLoader(train_dataset,\n",
    "                             batch_size=128,\n",
    "                             collate_fn=collate_fn,\n",
    "                             shuffle=True)\n",
    "\n",
    "valid_dataloader= DataLoader(valid_dataset,\n",
    "                             batch_size=1024,\n",
    "                             collate_fn=collate_fn,\n",
    "                             shuffle=False)\n",
    "\n",
    "test_dataloader= DataLoader(test_dataset,\n",
    "                            batch_size=1024,\n",
    "                            collate_fn=collate_fn,\n",
    "                            shuffle=False)"
   ]
  },
  {
   "cell_type": "code",
   "execution_count": 35,
   "metadata": {},
   "outputs": [],
   "source": [
    "sample = next(iter(test_dataloader))"
   ]
  },
  {
   "cell_type": "markdown",
   "metadata": {},
   "source": [
    "---\n",
    "## Autoregressive Self-Attention Model"
   ]
  },
  {
   "cell_type": "code",
   "execution_count": 36,
   "metadata": {},
   "outputs": [],
   "source": [
    "import math\n",
    "import torch\n",
    "import torch.nn as nn\n",
    "import torch.nn.functional as F\n",
    "\n",
    "\n",
    "class AutoregressiveSelfAttention(nn.Module):\n",
    "\n",
    "    def __init__(self,\n",
    "                 vocab_size,\n",
    "                 embed_dim):\n",
    "\n",
    "        super().__init__()\n",
    "        \n",
    "        self.vocab_size = vocab_size\n",
    "        self.embed_dim = embed_dim\n",
    "        self.output_dim = embed_dim\n",
    "\n",
    "        self.embeddings = nn.Embedding(vocab_size, embed_dim, padding_idx=0)\n",
    "\n",
    "        self.q_linear = nn.Linear(embed_dim, embed_dim)\n",
    "        self.k_linear = nn.Linear(embed_dim, embed_dim)\n",
    "        self.v_linear = nn.Linear(embed_dim, embed_dim)\n",
    "        \n",
    "    def forward(self, X, return_attention_score=False):\n",
    "\n",
    "        batch_size, seq_len = X.size()\n",
    "        X = self.embeddings(X)\n",
    "        \n",
    "        q, k, v = self.q_linear(X), self.k_linear(X), self.v_linear(X)\n",
    "        \n",
    "        attention_score_raw = q @ k.transpose(-2,-1) / math.sqrt(self.embed_dim)\n",
    "        \n",
    "        mask = torch.tril(torch.ones(seq_len,seq_len, device=X.device))\n",
    "        \n",
    "        attention_score_raw = attention_score_raw.masked_fill(mask==0.,-9e9)\n",
    "        attention_score = torch.softmax(attention_score_raw, dim=2)\n",
    "        \n",
    "        context = attention_score @ v\n",
    "        \n",
    "        if return_attention_score:\n",
    "            return context, attention_score\n",
    "        return context"
   ]
  },
  {
   "cell_type": "code",
   "execution_count": 37,
   "metadata": {},
   "outputs": [
    {
     "data": {
      "text/plain": [
       "tensor([[1., 1., 1.],\n",
       "        [1., 1., 1.],\n",
       "        [1., 1., 1.]])"
      ]
     },
     "execution_count": 37,
     "metadata": {},
     "output_type": "execute_result"
    }
   ],
   "source": [
    "seq_len=3\n",
    "\n",
    "torch.ones(seq_len,seq_len)"
   ]
  },
  {
   "cell_type": "code",
   "execution_count": 38,
   "metadata": {},
   "outputs": [],
   "source": [
    "mask = torch.tril(torch.ones(seq_len,seq_len))"
   ]
  },
  {
   "cell_type": "code",
   "execution_count": 39,
   "metadata": {},
   "outputs": [
    {
     "data": {
      "text/plain": [
       "tensor([[1., 0., 0.],\n",
       "        [1., 1., 0.],\n",
       "        [1., 1., 1.]])"
      ]
     },
     "execution_count": 39,
     "metadata": {},
     "output_type": "execute_result"
    }
   ],
   "source": [
    "mask"
   ]
  },
  {
   "cell_type": "code",
   "execution_count": 40,
   "metadata": {},
   "outputs": [],
   "source": [
    "x = torch.randn(2, 3, 3)"
   ]
  },
  {
   "cell_type": "code",
   "execution_count": 41,
   "metadata": {},
   "outputs": [
    {
     "data": {
      "text/plain": [
       "tensor([[[-0.7848, -0.7768, -0.7503],\n",
       "         [-1.2415,  0.8825, -1.0155],\n",
       "         [-2.3689,  0.3095,  0.9742]],\n",
       "\n",
       "        [[ 1.1485,  1.4714,  2.2267],\n",
       "         [-0.2451,  2.0191,  0.8585],\n",
       "         [-0.2066, -0.7619, -0.8557]]])"
      ]
     },
     "execution_count": 41,
     "metadata": {},
     "output_type": "execute_result"
    }
   ],
   "source": [
    "x"
   ]
  },
  {
   "cell_type": "code",
   "execution_count": 42,
   "metadata": {},
   "outputs": [
    {
     "data": {
      "text/plain": [
       "tensor([[[-7.8481e-01, -9.0000e-09, -9.0000e-09],\n",
       "         [-1.2415e+00,  8.8248e-01, -9.0000e-09],\n",
       "         [-2.3689e+00,  3.0953e-01,  9.7424e-01]],\n",
       "\n",
       "        [[ 1.1485e+00, -9.0000e-09, -9.0000e-09],\n",
       "         [-2.4510e-01,  2.0191e+00, -9.0000e-09],\n",
       "         [-2.0655e-01, -7.6189e-01, -8.5565e-01]]])"
      ]
     },
     "execution_count": 42,
     "metadata": {},
     "output_type": "execute_result"
    }
   ],
   "source": [
    "x.masked_fill(mask==0, -9e-9)"
   ]
  },
  {
   "cell_type": "code",
   "execution_count": 43,
   "metadata": {},
   "outputs": [
    {
     "data": {
      "text/plain": [
       "tensor([[[1.0000, 0.0000, 0.0000],\n",
       "         [0.1068, 0.8932, 0.0000],\n",
       "         [0.0228, 0.3319, 0.6453]],\n",
       "\n",
       "        [[1.0000, 0.0000, 0.0000],\n",
       "         [0.0941, 0.9059, 0.0000],\n",
       "         [0.4770, 0.2737, 0.2492]]])"
      ]
     },
     "execution_count": 43,
     "metadata": {},
     "output_type": "execute_result"
    }
   ],
   "source": [
    "torch.softmax(x.masked_fill(mask==0, -9e9), dim=2)"
   ]
  },
  {
   "cell_type": "code",
   "execution_count": 44,
   "metadata": {},
   "outputs": [],
   "source": [
    "class Classifier(nn.Module):\n",
    "    \n",
    "    def __init__(self, sr_model, output_dim, vocab_size, embed_dim, **kwargs):\n",
    "\n",
    "        super().__init__()\n",
    "\n",
    "        self.sr_model = sr_model(vocab_size=vocab_size,\n",
    "                                 embed_dim=embed_dim,\n",
    "                                 **kwargs)\n",
    "\n",
    "        self.input_dim = self.sr_model.output_dim\n",
    "        self.output_dim = output_dim\n",
    "        self.fc = nn.Linear(self.input_dim, self.output_dim)\n",
    "\n",
    "    def forward(self, x):\n",
    "        return self.fc(self.sr_model(x))"
   ]
  },
  {
   "cell_type": "code",
   "execution_count": 45,
   "metadata": {},
   "outputs": [],
   "source": [
    "model = Classifier(sr_model=AutoregressiveSelfAttention,\n",
    "                   output_dim=len(vocabs),\n",
    "                   vocab_size=len(vocabs),\n",
    "                   embed_dim=128)"
   ]
  },
  {
   "cell_type": "code",
   "execution_count": 46,
   "metadata": {},
   "outputs": [
    {
     "data": {
      "text/plain": [
       "tensor([0., 0., 0., 0., 0., 0., 0., 0., 0., 0., 0., 0., 0., 0., 0., 0., 0., 0., 0., 0., 0., 0., 0., 0.,\n",
       "        0., 0., 0., 0., 0., 0., 0., 0., 0., 0., 0., 0., 0., 0., 0., 0., 0., 0., 0., 0., 0., 0., 0., 0.,\n",
       "        0., 0., 0., 0., 0., 0., 0., 0., 0., 0., 0., 0., 0., 0., 0., 0., 0., 0., 0., 0., 0., 0., 0., 0.,\n",
       "        0., 0., 0., 0., 0., 0., 0., 0., 0., 0., 0., 0., 0., 0., 0., 0., 0., 0., 0., 0., 0., 0., 0., 0.,\n",
       "        0., 0., 0., 0., 0., 0., 0., 0., 0., 0., 0., 0., 0., 0., 0., 0., 0., 0., 0., 0., 0., 0., 0., 0.,\n",
       "        0., 0., 0., 0., 0., 0., 0., 0.], grad_fn=<SelectBackward0>)"
      ]
     },
     "execution_count": 46,
     "metadata": {},
     "output_type": "execute_result"
    }
   ],
   "source": [
    "model.sr_model.embeddings.weight[0]"
   ]
  },
  {
   "cell_type": "markdown",
   "metadata": {},
   "source": [
    "---\n",
    "## Training"
   ]
  },
  {
   "cell_type": "code",
   "execution_count": 47,
   "metadata": {},
   "outputs": [
    {
     "name": "stdout",
     "output_type": "stream",
     "text": [
      "use_cuda: False\n"
     ]
    }
   ],
   "source": [
    "use_cuda = True and torch.cuda.is_available()\n",
    "\n",
    "if use_cuda:\n",
    "    model.cuda()\n",
    "print(f\"use_cuda: {use_cuda}\")"
   ]
  },
  {
   "cell_type": "code",
   "execution_count": 48,
   "metadata": {},
   "outputs": [],
   "source": [
    "import torch.optim as optim\n",
    "import numpy as np\n",
    "from copy import deepcopy"
   ]
  },
  {
   "cell_type": "code",
   "execution_count": 49,
   "metadata": {},
   "outputs": [],
   "source": [
    "optimizer = optim.Adam(params=model.parameters(), lr=0.01)\n",
    "calc_loss = nn.CrossEntropyLoss(ignore_index=0)"
   ]
  },
  {
   "cell_type": "code",
   "execution_count": 50,
   "metadata": {},
   "outputs": [
    {
     "name": "stdout",
     "output_type": "stream",
     "text": [
      "global_i: 0, epoch_i: 0, loss: 8.017644882202148\n",
      "******************************\n",
      "valid_loss_mean: 5.22611665725708\n",
      "******************************\n",
      "******************************\n",
      "valid_loss_mean: 4.735431671142578\n",
      "******************************\n",
      "global_i: 100, epoch_i: 10, loss: 4.3055195808410645\n",
      "******************************\n",
      "valid_loss_mean: 4.615505695343018\n",
      "******************************\n",
      "******************************\n",
      "valid_loss_mean: 4.561903953552246\n",
      "******************************\n",
      "global_i: 200, epoch_i: 20, loss: 3.7931292057037354\n",
      "******************************\n",
      "valid_loss_mean: 4.5885820388793945\n",
      "******************************\n",
      "******************************\n",
      "valid_loss_mean: 4.62919807434082\n",
      "******************************\n",
      "global_i: 300, epoch_i: 30, loss: 3.7015745639801025\n",
      "******************************\n",
      "valid_loss_mean: 4.638031482696533\n",
      "******************************\n",
      "******************************\n",
      "valid_loss_mean: 4.693906784057617\n",
      "******************************\n",
      "global_i: 400, epoch_i: 40, loss: 3.5231621265411377\n",
      "******************************\n",
      "valid_loss_mean: 4.779194355010986\n",
      "******************************\n",
      "******************************\n",
      "valid_loss_mean: 4.75539493560791\n",
      "******************************\n",
      "global_i: 500, epoch_i: 50, loss: 3.440434455871582\n",
      "******************************\n",
      "valid_loss_mean: 4.786417484283447\n",
      "******************************\n",
      "******************************\n",
      "valid_loss_mean: 4.8254852294921875\n",
      "******************************\n",
      "global_i: 600, epoch_i: 60, loss: 3.293466567993164\n",
      "******************************\n",
      "valid_loss_mean: 4.863719940185547\n",
      "******************************\n",
      "******************************\n",
      "valid_loss_mean: 4.895477771759033\n",
      "******************************\n",
      "global_i: 700, epoch_i: 70, loss: 3.178938150405884\n",
      "******************************\n",
      "valid_loss_mean: 4.965695381164551\n",
      "******************************\n",
      "******************************\n",
      "valid_loss_mean: 5.004300594329834\n",
      "******************************\n",
      "global_i: 800, epoch_i: 80, loss: 3.010962724685669\n",
      "******************************\n",
      "valid_loss_mean: 5.124719142913818\n",
      "******************************\n",
      "******************************\n",
      "valid_loss_mean: 5.237060070037842\n",
      "******************************\n",
      "global_i: 900, epoch_i: 90, loss: 2.7878305912017822\n",
      "******************************\n",
      "valid_loss_mean: 5.365929126739502\n",
      "******************************\n",
      "******************************\n",
      "valid_loss_mean: 5.4887309074401855\n",
      "******************************\n",
      "best_epoch_i: 13\n"
     ]
    }
   ],
   "source": [
    "tokenizer.use_padding = True\n",
    "n_epoch = 100\n",
    "global_i = 0\n",
    "\n",
    "valid_loss_history = [] \n",
    "train_loss_history = [] \n",
    "\n",
    "min_valid_loss = 9e+9\n",
    "best_model = None\n",
    "best_epoch_i = None\n",
    "\n",
    "ema_train_loss = None\n",
    "\n",
    "for epoch_i in range(n_epoch):\n",
    "    model.train()\n",
    "    \n",
    "    for batch in train_dataloader:\n",
    "        optimizer.zero_grad()\n",
    "        x = torch.tensor(batch['doc_ids'])\n",
    "        if use_cuda:\n",
    "            x = x.cuda()\n",
    "        \n",
    "        y_pred = model(x[:, :-1])\n",
    "        loss = calc_loss(y_pred.view(-1, len(vocabs)), x[:, 1:].flatten())\n",
    "\n",
    "        if global_i % 100 == 0:\n",
    "            print(f\"global_i: {global_i}, epoch_i: {epoch_i}, loss: {loss.item()}\")\n",
    "            \n",
    "        train_loss_history.append((global_i, loss.item()))\n",
    "            \n",
    "        loss.backward()\n",
    "        optimizer.step()\n",
    "        global_i += 1\n",
    "    \n",
    "    model.eval()\n",
    "\n",
    "    valid_loss_list = []\n",
    "    for batch in valid_dataloader:\n",
    "        x = torch.tensor(batch['doc_ids'])\n",
    "        if use_cuda:\n",
    "            x = x.cuda()\n",
    "        y_pred = model(x[:, :-1])\n",
    "        loss = calc_loss(y_pred.view(-1, len(vocabs)), x[:, 1:].flatten())\n",
    "        valid_loss_list.append(loss.item())\n",
    "\n",
    "    \n",
    "    valid_loss_mean = np.mean(valid_loss_list)\n",
    "    valid_loss_history.append((global_i, valid_loss_mean.item()))\n",
    "    \n",
    "    \n",
    "    if valid_loss_mean < min_valid_loss:\n",
    "        min_valid_loss = valid_loss_mean\n",
    "        best_epoch_i = epoch_i\n",
    "        best_model = deepcopy(model)\n",
    "        \n",
    "    if epoch_i % 5 == 0:\n",
    "        print(\"*\"*30)\n",
    "        print(f\"valid_loss_mean: {valid_loss_mean}\")\n",
    "        print(\"*\"*30)\n",
    "print(f\"best_epoch_i: {best_epoch_i}\")"
   ]
  },
  {
   "cell_type": "markdown",
   "metadata": {},
   "source": [
    "---\n",
    "## Learning Curve"
   ]
  },
  {
   "cell_type": "code",
   "execution_count": 51,
   "metadata": {},
   "outputs": [],
   "source": [
    "def calc_moving_average(arr, win_size=100):\n",
    "    new_arr = []\n",
    "    win = []\n",
    "    \n",
    "    for i, val in enumerate(arr):\n",
    "        win.append(val)\n",
    "        if len(win) > win_size:\n",
    "            win.pop(0)\n",
    "        new_arr.append(np.mean(win))\n",
    "        \n",
    "    return np.array(new_arr)"
   ]
  },
  {
   "cell_type": "code",
   "execution_count": 52,
   "metadata": {},
   "outputs": [
    {
     "data": {
      "text/plain": [
       "Text(0, 0.5, 'loss')"
      ]
     },
     "execution_count": 52,
     "metadata": {},
     "output_type": "execute_result"
    },
    {
     "data": {
      "image/png": "[encoded data removed]",
      "text/plain": [
       "<Figure size 1200x800 with 1 Axes>"
      ]
     },
     "metadata": {},
     "output_type": "display_data"
    }
   ],
   "source": [
    "valid_loss_history = np.array(valid_loss_history)\n",
    "train_loss_history =  np.array(train_loss_history)\n",
    "\n",
    "plt.figure(figsize=(12,8))\n",
    "plt.plot(train_loss_history[:,0],\n",
    "         calc_moving_average(train_loss_history[:,1]), color='blue')\n",
    "\n",
    "plt.plot(valid_loss_history[:,0],\n",
    "         valid_loss_history[:,1], color='red')\n",
    "plt.xlabel(\"step\")\n",
    "plt.ylabel(\"loss\")"
   ]
  }
 ],
 "metadata": {
  "kernelspec": {
   "display_name": "base",
   "language": "python",
   "name": "python3"
  },
  "language_info": {
   "codemirror_mode": {
    "name": "ipython",
    "version": 3
   },
   "file_extension": ".py",
   "mimetype": "text/x-python",
   "name": "python",
   "nbconvert_exporter": "python",
   "pygments_lexer": "ipython3",
   "version": "3.12.3"
  }
 },
 "nbformat": 4,
 "nbformat_minor": 2
}
