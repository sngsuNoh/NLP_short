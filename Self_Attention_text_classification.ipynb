{
 "cells": [
  {
   "cell_type": "markdown",
   "metadata": {},
   "source": [
    "# Self-Attention Text Classification"
   ]
  },
  {
   "cell_type": "markdown",
   "metadata": {},
   "source": [
    "---\n",
    "## Data Check"
   ]
  },
  {
   "cell_type": "markdown",
   "metadata": {},
   "source": [
    "- NSMC 데이터\n",
    "    - Naver sentiment movie corpus v1.0\n",
    "    - 네이버 영화 댓글 감정분석 데이터셋\n",
    "    - 이진 분류\n",
    "- https://github.com/e9t/nsmc"
   ]
  },
  {
   "cell_type": "code",
   "execution_count": 1,
   "metadata": {},
   "outputs": [],
   "source": [
    "import os\n",
    "os.environ['KMP_DUPLICATE_LIB_OK']='True'"
   ]
  },
  {
   "cell_type": "code",
   "execution_count": 2,
   "metadata": {},
   "outputs": [
    {
     "data": {
      "text/html": [
       "<div>\n",
       "<style scoped>\n",
       "    .dataframe tbody tr th:only-of-type {\n",
       "        vertical-align: middle;\n",
       "    }\n",
       "\n",
       "    .dataframe tbody tr th {\n",
       "        vertical-align: top;\n",
       "    }\n",
       "\n",
       "    .dataframe thead th {\n",
       "        text-align: right;\n",
       "    }\n",
       "</style>\n",
       "<table border=\"1\" class=\"dataframe\">\n",
       "  <thead>\n",
       "    <tr style=\"text-align: right;\">\n",
       "      <th></th>\n",
       "      <th>id</th>\n",
       "      <th>document</th>\n",
       "      <th>label</th>\n",
       "    </tr>\n",
       "  </thead>\n",
       "  <tbody>\n",
       "    <tr>\n",
       "      <th>0</th>\n",
       "      <td>9976970</td>\n",
       "      <td>아 더빙.. 진짜 짜증나네요 목소리</td>\n",
       "      <td>0</td>\n",
       "    </tr>\n",
       "    <tr>\n",
       "      <th>1</th>\n",
       "      <td>3819312</td>\n",
       "      <td>흠...포스터보고 초딩영화줄....오버연기조차 가볍지 않구나</td>\n",
       "      <td>1</td>\n",
       "    </tr>\n",
       "  </tbody>\n",
       "</table>\n",
       "</div>"
      ],
      "text/plain": [
       "        id                           document  label\n",
       "0  9976970                아 더빙.. 진짜 짜증나네요 목소리      0\n",
       "1  3819312  흠...포스터보고 초딩영화줄....오버연기조차 가볍지 않구나      1"
      ]
     },
     "execution_count": 2,
     "metadata": {},
     "output_type": "execute_result"
    }
   ],
   "source": [
    "import pandas as pd\n",
    "import numpy as np\n",
    "import matplotlib.pyplot as plt\n",
    "\n",
    "df = pd.read_csv('data/ratings_train.txt', sep='\\t')\n",
    "df.head(2)"
   ]
  },
  {
   "cell_type": "code",
   "execution_count": 3,
   "metadata": {},
   "outputs": [
    {
     "data": {
      "text/plain": [
       "label\n",
       "0    75173\n",
       "1    74827\n",
       "Name: count, dtype: int64"
      ]
     },
     "execution_count": 3,
     "metadata": {},
     "output_type": "execute_result"
    }
   ],
   "source": [
    "df['label'].value_counts()"
   ]
  },
  {
   "cell_type": "code",
   "execution_count": 4,
   "metadata": {},
   "outputs": [
    {
     "data": {
      "text/plain": [
       "id          0\n",
       "document    5\n",
       "label       0\n",
       "dtype: int64"
      ]
     },
     "execution_count": 4,
     "metadata": {},
     "output_type": "execute_result"
    }
   ],
   "source": [
    "df.isna().sum()"
   ]
  },
  {
   "cell_type": "code",
   "execution_count": 5,
   "metadata": {},
   "outputs": [
    {
     "data": {
      "text/plain": [
       "(149995, 3)"
      ]
     },
     "execution_count": 5,
     "metadata": {},
     "output_type": "execute_result"
    }
   ],
   "source": [
    "df = df.dropna(how='any', axis=0)\n",
    "df.shape"
   ]
  },
  {
   "cell_type": "markdown",
   "metadata": {},
   "source": [
    "---\n",
    "## Tokenization"
   ]
  },
  {
   "cell_type": "code",
   "execution_count": 6,
   "metadata": {},
   "outputs": [],
   "source": [
    "vocab = set()\n",
    "for doc in df['document']:\n",
    "    for token in doc.split():\n",
    "        vocab.add(token)"
   ]
  },
  {
   "cell_type": "code",
   "execution_count": 7,
   "metadata": {},
   "outputs": [
    {
     "data": {
      "text/plain": [
       "357862"
      ]
     },
     "execution_count": 7,
     "metadata": {},
     "output_type": "execute_result"
    }
   ],
   "source": [
    "len(vocab)"
   ]
  },
  {
   "cell_type": "code",
   "execution_count": 8,
   "metadata": {},
   "outputs": [],
   "source": [
    "vocab_cnt_dict = {}\n",
    "for doc in df['document']:\n",
    "    for token in doc.split():\n",
    "        if token not in vocab_cnt_dict:\n",
    "            vocab_cnt_dict[token] = 0\n",
    "        vocab_cnt_dict[token] += 1"
   ]
  },
  {
   "cell_type": "code",
   "execution_count": 9,
   "metadata": {},
   "outputs": [],
   "source": [
    "vocab_cnt_list = [(token, cnt) for token, cnt in vocab_cnt_dict.items()]"
   ]
  },
  {
   "cell_type": "code",
   "execution_count": 10,
   "metadata": {},
   "outputs": [],
   "source": [
    "top_vocabs = sorted(vocab_cnt_list, key= lambda tup: tup[1], reverse=True)"
   ]
  },
  {
   "cell_type": "code",
   "execution_count": 11,
   "metadata": {},
   "outputs": [],
   "source": [
    "cnts = [cnt for _, cnt in top_vocabs]"
   ]
  },
  {
   "cell_type": "code",
   "execution_count": 12,
   "metadata": {},
   "outputs": [],
   "source": [
    "n_vocab = sum(np.array(cnts)>=3)\n",
    "top_vocabs = top_vocabs[:n_vocab]"
   ]
  },
  {
   "cell_type": "code",
   "execution_count": 13,
   "metadata": {},
   "outputs": [
    {
     "data": {
      "text/plain": [
       "['영화', '너무', '정말', '진짜', '이']"
      ]
     },
     "execution_count": 13,
     "metadata": {},
     "output_type": "execute_result"
    }
   ],
   "source": [
    "vocabs = [token for token, _ in top_vocabs]\n",
    "vocabs[:5]"
   ]
  },
  {
   "cell_type": "markdown",
   "metadata": {},
   "source": [
    "---\n",
    "## UNK, PAD Token"
   ]
  },
  {
   "cell_type": "code",
   "execution_count": 14,
   "metadata": {},
   "outputs": [],
   "source": [
    "vocabs.insert(0, '[UNK]')\n",
    "vocabs.insert(0, '[PAD]')"
   ]
  },
  {
   "cell_type": "code",
   "execution_count": 15,
   "metadata": {},
   "outputs": [],
   "source": [
    "idx_to_token = vocabs\n",
    "token_to_idx = {token: i for i, token in enumerate(idx_to_token)}"
   ]
  },
  {
   "cell_type": "code",
   "execution_count": 16,
   "metadata": {},
   "outputs": [],
   "source": [
    "class Tokenizer:\n",
    "    \n",
    "    def __init__(self, vocabs, use_padding=True, max_padding=64, pad_token='[PAD]', unk_token='[UNK]'):\n",
    "        self.idx_to_token = vocabs\n",
    "        self.token_to_idx = {token: i for i, token in enumerate(self.idx_to_token)}\n",
    "        \n",
    "        self.use_padding = use_padding\n",
    "        self.max_padding = max_padding\n",
    "        \n",
    "        self.pad_token = pad_token\n",
    "        self.unk_token = unk_token\n",
    "        \n",
    "        self.unk_token_idx = self.token_to_idx[self.unk_token]\n",
    "        self.pad_token_idx = self.token_to_idx[self.pad_token]\n",
    "        \n",
    "    def __call__(self, x:str):\n",
    "        token_ids = []\n",
    "        token_list = x.split()\n",
    "        \n",
    "        for token in token_list:\n",
    "            if token in self.token_to_idx:\n",
    "                token_idx = self.token_to_idx[token]\n",
    "            else:\n",
    "                token_idx = self.unk_token_idx\n",
    "            token_ids.append(token_idx)\n",
    "        \n",
    "        if self.use_padding:\n",
    "            token_ids = token_ids[:self.max_padding]\n",
    "            n_pads = self.max_padding - len(token_ids)\n",
    "            token_ids = token_ids + [self.pad_token_idx] * n_pads\n",
    "        \n",
    "        return token_ids"
   ]
  },
  {
   "cell_type": "code",
   "execution_count": 17,
   "metadata": {},
   "outputs": [],
   "source": [
    "tokenizer = Tokenizer(vocabs, use_padding=True, max_padding=50, pad_token='[PAD]', unk_token='[UNK]')"
   ]
  },
  {
   "cell_type": "markdown",
   "metadata": {},
   "source": [
    "---\n",
    "## DataLoader"
   ]
  },
  {
   "cell_type": "code",
   "execution_count": 18,
   "metadata": {},
   "outputs": [],
   "source": [
    "import torch\n",
    "from torch.utils.data import Dataset, DataLoader"
   ]
  },
  {
   "cell_type": "code",
   "execution_count": 19,
   "metadata": {},
   "outputs": [],
   "source": [
    "train_valid_df = pd.read_csv('data/ratings_train.txt', sep='\\t')\n",
    "test_df = pd.read_csv('data/ratings_test.txt', sep='\\t')"
   ]
  },
  {
   "cell_type": "code",
   "execution_count": 20,
   "metadata": {},
   "outputs": [
    {
     "data": {
      "text/plain": [
       "(150000, 50000)"
      ]
     },
     "execution_count": 20,
     "metadata": {},
     "output_type": "execute_result"
    }
   ],
   "source": [
    "len(train_valid_df), len(test_df)"
   ]
  },
  {
   "cell_type": "code",
   "execution_count": 21,
   "metadata": {},
   "outputs": [],
   "source": [
    "train_valid_df = train_valid_df.sample(frac=1.)"
   ]
  },
  {
   "cell_type": "code",
   "execution_count": 22,
   "metadata": {},
   "outputs": [],
   "source": [
    "train_ratio = 0.8\n",
    "n_train = int(len(train_valid_df) * train_ratio)\n",
    "\n",
    "train_df = train_valid_df[:n_train]\n",
    "valid_df = train_valid_df[n_train:]"
   ]
  },
  {
   "cell_type": "code",
   "execution_count": 23,
   "metadata": {},
   "outputs": [
    {
     "data": {
      "text/plain": [
       "(120000, 30000, 50000)"
      ]
     },
     "execution_count": 23,
     "metadata": {},
     "output_type": "execute_result"
    }
   ],
   "source": [
    "len(train_df), len(valid_df), len(test_df)"
   ]
  },
  {
   "cell_type": "code",
   "execution_count": 24,
   "metadata": {},
   "outputs": [],
   "source": [
    "# 1/10 샘플링\n",
    "train_df = train_df.sample(frac=0.1)\n",
    "valid_df = valid_df.sample(frac=0.1)\n",
    "test_df = test_df.sample(frac=0.1)"
   ]
  },
  {
   "cell_type": "code",
   "execution_count": 25,
   "metadata": {},
   "outputs": [],
   "source": [
    "class NSMCDataset(Dataset):\n",
    "    \n",
    "    def __init__(self, data_df, tokenizer=None):\n",
    "        self.data_df = data_df\n",
    "        self.tokenizer = tokenizer\n",
    "        \n",
    "    def __len__(self):\n",
    "        return len(self.data_df)\n",
    "    \n",
    "    def __getitem__(self, idx):\n",
    "        sample_raw = self.data_df.iloc[idx]\n",
    "        sample = {}\n",
    "        \n",
    "        sample['doc'] = str(sample_raw['document'])\n",
    "        sample['label'] = int(sample_raw['label'])\n",
    "        \n",
    "        assert sample['label'] in set([0, 1])\n",
    "        \n",
    "        if self.tokenizer is not None:\n",
    "            sample['doc_ids'] = self.tokenizer(sample['doc']) \n",
    "        \n",
    "        return sample        "
   ]
  },
  {
   "cell_type": "code",
   "execution_count": 26,
   "metadata": {},
   "outputs": [],
   "source": [
    "def collate_fn(batch):\n",
    "    keys = [key for key in batch[0].keys()]\n",
    "    data = {key: [] for key in keys}\n",
    "\n",
    "    for item in batch:\n",
    "        for key in keys:\n",
    "            data[key].append(item[key])\n",
    "            \n",
    "    return data"
   ]
  },
  {
   "cell_type": "code",
   "execution_count": 27,
   "metadata": {},
   "outputs": [],
   "source": [
    "train_dataset = NSMCDataset(\n",
    "    data_df=train_df,\n",
    "    tokenizer=tokenizer\n",
    ")\n",
    "valid_dataset = NSMCDataset(\n",
    "    data_df=valid_df,\n",
    "    tokenizer=tokenizer\n",
    ")\n",
    "test_dataset = NSMCDataset(\n",
    "    data_df=test_df,\n",
    "    tokenizer=tokenizer\n",
    ")\n",
    "\n",
    "train_dataloader = DataLoader(train_dataset,\n",
    "                              batch_size=64,\n",
    "                              collate_fn=collate_fn,\n",
    "                              shuffle=True)\n",
    "valid_dataloader = DataLoader(valid_dataset,\n",
    "                              batch_size=64,\n",
    "                              collate_fn=collate_fn,\n",
    "                              shuffle=False)\n",
    "test_dataloader = DataLoader(test_dataset,\n",
    "                             batch_size=64,\n",
    "                             collate_fn=collate_fn,\n",
    "                             shuffle=False)"
   ]
  },
  {
   "cell_type": "code",
   "execution_count": 28,
   "metadata": {},
   "outputs": [],
   "source": [
    "sample = next(iter(test_dataloader))"
   ]
  },
  {
   "cell_type": "code",
   "execution_count": 29,
   "metadata": {},
   "outputs": [
    {
     "data": {
      "text/plain": [
       "dict_keys(['doc', 'label', 'doc_ids'])"
      ]
     },
     "execution_count": 29,
     "metadata": {},
     "output_type": "execute_result"
    }
   ],
   "source": [
    "sample.keys()"
   ]
  },
  {
   "cell_type": "code",
   "execution_count": 30,
   "metadata": {},
   "outputs": [
    {
     "data": {
      "text/plain": [
       "'아..정말 재미없다 ;;;;;;;;;;;;;'"
      ]
     },
     "execution_count": 30,
     "metadata": {},
     "output_type": "execute_result"
    }
   ],
   "source": [
    "sample['doc'][2]"
   ]
  },
  {
   "cell_type": "code",
   "execution_count": 31,
   "metadata": {},
   "outputs": [
    {
     "data": {
      "text/plain": [
       "[24034, 313, 1, 0, 0, 0, 0, 0, 0, 0]"
      ]
     },
     "execution_count": 31,
     "metadata": {},
     "output_type": "execute_result"
    }
   ],
   "source": [
    "sample['doc_ids'][2][:10]"
   ]
  },
  {
   "cell_type": "markdown",
   "metadata": {},
   "source": [
    "---\n",
    "## Self-Attention Modeling"
   ]
  },
  {
   "cell_type": "code",
   "execution_count": 32,
   "metadata": {},
   "outputs": [],
   "source": [
    "import math\n",
    "import torch\n",
    "import torch.nn as nn\n",
    "import torch.nn.functional as F\n",
    "\n",
    "\n",
    "class SelfAttention(nn.Module):\n",
    "\n",
    "    def __init__(self,\n",
    "                 vocab_size,\n",
    "                 embed_dim):\n",
    "\n",
    "        super().__init__()\n",
    "        \n",
    "        self.vocab_size = vocab_size\n",
    "        self.embed_dim = embed_dim\n",
    "        self.output_dim = embed_dim\n",
    "\n",
    "        self.embeddings = nn.Embedding(vocab_size, embed_dim, padding_idx=0)\n",
    "\n",
    "        self.q_linear = nn.Linear(embed_dim, embed_dim)\n",
    "        self.k_linear = nn.Linear(embed_dim, embed_dim)\n",
    "        self.v_linear = nn.Linear(embed_dim, embed_dim)\n",
    "\n",
    "    def forward(self, X, return_attention_score=False):\n",
    "\n",
    "        batch_size, seq_len = X.size()\n",
    "        X = self.embeddings(X)\n",
    "        \n",
    "        q, k, v = self.q_linear(X), self.k_linear(X), self.v_linear(X)\n",
    "        \n",
    "        attention_score_raw = q @ k.transpose(-2,-1) / math.sqrt(self.embed_dim)\n",
    "        \n",
    "        attention_score = torch.softmax(attention_score_raw, dim=2)\n",
    "        \n",
    "        weighted_sum = attention_score @ v\n",
    "\n",
    "        context = torch.mean(weighted_sum, dim=1)\n",
    "        \n",
    "        if return_attention_score:\n",
    "            return context, attention_score\n",
    "        \n",
    "        return context"
   ]
  },
  {
   "cell_type": "code",
   "execution_count": 33,
   "metadata": {},
   "outputs": [],
   "source": [
    "class Classifier(nn.Module):\n",
    "\n",
    "    def __init__(self, sr_model, output_dim, vocab_size, embed_dim, **kwargs):\n",
    "\n",
    "        super().__init__()\n",
    "\n",
    "        self.sr_model = sr_model(vocab_size=vocab_size,\n",
    "                                 embed_dim=embed_dim,\n",
    "                                 **kwargs)\n",
    "\n",
    "        self.input_dim = self.sr_model.output_dim\n",
    "        self.output_dim = output_dim\n",
    "        self.fc = nn.Linear(self.input_dim, self.output_dim)\n",
    "\n",
    "    def forward(self, x):\n",
    "        return self.fc(self.sr_model(x))"
   ]
  },
  {
   "cell_type": "code",
   "execution_count": 34,
   "metadata": {},
   "outputs": [],
   "source": [
    "model = Classifier(sr_model=SelfAttention,\n",
    "                   output_dim=2,\n",
    "                   vocab_size=len(vocabs),\n",
    "                   embed_dim=16)"
   ]
  },
  {
   "cell_type": "code",
   "execution_count": 35,
   "metadata": {},
   "outputs": [
    {
     "data": {
      "text/plain": [
       "tensor([0., 0., 0., 0., 0., 0., 0., 0., 0., 0., 0., 0., 0., 0., 0., 0.],\n",
       "       grad_fn=<SelectBackward0>)"
      ]
     },
     "execution_count": 35,
     "metadata": {},
     "output_type": "execute_result"
    }
   ],
   "source": [
    "model.sr_model.embeddings.weight[0]"
   ]
  },
  {
   "cell_type": "markdown",
   "metadata": {},
   "source": [
    "---\n",
    "## Training"
   ]
  },
  {
   "cell_type": "code",
   "execution_count": 36,
   "metadata": {},
   "outputs": [],
   "source": [
    "use_cuda = True and torch.cuda.is_available()\n",
    "\n",
    "if use_cuda:\n",
    "    model.cuda()"
   ]
  },
  {
   "cell_type": "code",
   "execution_count": 37,
   "metadata": {},
   "outputs": [],
   "source": [
    "import torch.optim as optim\n",
    "import numpy as np\n",
    "from copy import deepcopy"
   ]
  },
  {
   "cell_type": "code",
   "execution_count": 38,
   "metadata": {},
   "outputs": [],
   "source": [
    "optimizer = optim.Adam(params=model.parameters(), lr=0.01)\n",
    "calc_loss = nn.CrossEntropyLoss()"
   ]
  },
  {
   "cell_type": "code",
   "execution_count": 39,
   "metadata": {},
   "outputs": [
    {
     "name": "stdout",
     "output_type": "stream",
     "text": [
      "global_i: 0, epoch_i: 0, loss: 0.7293606996536255\n",
      "******************************\n",
      "valid_loss_mean: 0.5925745412390283\n",
      "******************************\n",
      "******************************\n",
      "valid_loss_mean: 0.5740867085913395\n",
      "******************************\n",
      "******************************\n",
      "valid_loss_mean: 0.7538442484875942\n",
      "******************************\n",
      "******************************\n",
      "valid_loss_mean: 0.8763164218435896\n",
      "******************************\n",
      "******************************\n",
      "valid_loss_mean: 1.0976944337499903\n",
      "******************************\n",
      "best_epoch_i: 1, best_global_i: 940\n"
     ]
    }
   ],
   "source": [
    "n_epoch = 5\n",
    "global_i = 0\n",
    "\n",
    "valid_loss_hist = []\n",
    "train_loss_hist = []\n",
    "\n",
    "min_valid_loss = 9e+9\n",
    "best_model = None\n",
    "best_epoch_i = None\n",
    "\n",
    "for epoch_i in range(n_epoch):\n",
    "    model.train()\n",
    "    \n",
    "    for batch in train_dataloader:\n",
    "        optimizer.zero_grad()\n",
    "        x = torch.tensor(batch['doc_ids'])\n",
    "        y = torch.tensor(batch['label'])\n",
    "        \n",
    "        if use_cuda:\n",
    "            x = x.cuda()\n",
    "            y = y.cuda()\n",
    "            \n",
    "        y_pred = model(x)\n",
    "        loss = calc_loss(y_pred, y)\n",
    "        \n",
    "        if global_i % 1000 == 0:\n",
    "            print(f'global_i: {global_i}, epoch_i: {epoch_i}, loss: {loss.item()}')\n",
    "        \n",
    "        train_loss_hist.append((global_i, loss.item()))\n",
    "        \n",
    "        loss.backward()\n",
    "        optimizer.step()\n",
    "        \n",
    "        global_i += 1\n",
    "        \n",
    "    # validation\n",
    "    model.eval()\n",
    "    valid_loss_list = []\n",
    "    \n",
    "    for batch in valid_dataloader:\n",
    "        x = torch.tensor(batch['doc_ids'])\n",
    "        y = torch.tensor(batch['label'])\n",
    "        \n",
    "        if use_cuda:\n",
    "            x = x.cuda()\n",
    "            y = y.cuda()\n",
    "            \n",
    "        y_pred = model(x)\n",
    "        loss = calc_loss(y_pred, y)\n",
    "        valid_loss_list.append(loss.item())\n",
    "        \n",
    "    valid_loss_mean = np.mean(valid_loss_list)\n",
    "    valid_loss_hist.append((global_i, valid_loss_mean.item()))\n",
    "    \n",
    "    if valid_loss_mean < min_valid_loss:\n",
    "        min_valid_loss = valid_loss_mean\n",
    "        best_epoch_i = epoch_i\n",
    "        best_model = deepcopy(model)\n",
    "        \n",
    "    if epoch_i % 1 == 0:\n",
    "        print('*'*30)\n",
    "        print(f'valid_loss_mean: {valid_loss_mean}')\n",
    "        print('*'*30)\n",
    "\n",
    "print(f'best_epoch_i: {best_epoch_i}, best_global_i: {global_i}')    "
   ]
  },
  {
   "cell_type": "markdown",
   "metadata": {},
   "source": [
    "---\n",
    "## Learning Curve"
   ]
  },
  {
   "cell_type": "code",
   "execution_count": 40,
   "metadata": {},
   "outputs": [],
   "source": [
    "def calc_moving_average(arr, win_size=100):\n",
    "    new_arr = []\n",
    "    win = []\n",
    "    \n",
    "    for i, val in enumerate(arr):\n",
    "        win.append(val)\n",
    "        if len(win) > win_size:\n",
    "            win.pop(0)\n",
    "        \n",
    "        new_arr.append(np.mean(win))\n",
    "    return np.array(new_arr)"
   ]
  },
  {
   "cell_type": "code",
   "execution_count": 41,
   "metadata": {},
   "outputs": [
    {
     "data": {
      "text/plain": [
       "Text(0, 0.5, 'loss')"
      ]
     },
     "execution_count": 41,
     "metadata": {},
     "output_type": "execute_result"
    },
    {
     "data": {
      "image/png": "[encoded data removed]",
      "text/plain": [
       "<Figure size 1200x800 with 1 Axes>"
      ]
     },
     "metadata": {},
     "output_type": "display_data"
    }
   ],
   "source": [
    "valid_loss_hist = np.array(valid_loss_hist)\n",
    "train_loss_hist = np.array(train_loss_hist)\n",
    "\n",
    "plt.figure(figsize=(12, 8))\n",
    "plt.plot(\n",
    "    train_loss_hist[:, 0],\n",
    "    calc_moving_average(train_loss_hist[:, 1]),\n",
    "    color='blue'\n",
    ")\n",
    "plt.plot(\n",
    "    valid_loss_hist[:, 0],\n",
    "    valid_loss_hist[:, 1],\n",
    "    color='red'\n",
    ")\n",
    "plt.xlabel('step')\n",
    "plt.ylabel('loss')"
   ]
  },
  {
   "cell_type": "markdown",
   "metadata": {},
   "source": [
    "---\n",
    "## Evaluation"
   ]
  },
  {
   "cell_type": "code",
   "execution_count": 42,
   "metadata": {},
   "outputs": [],
   "source": [
    "from tqdm.auto import tqdm"
   ]
  },
  {
   "cell_type": "code",
   "execution_count": 43,
   "metadata": {},
   "outputs": [
    {
     "data": {
      "application/vnd.jupyter.widget-view+json": {
       "model_id": "ac94cf26b34e43efa1f91e47068f2ace",
       "version_major": 2,
       "version_minor": 0
      },
      "text/plain": [
       "  0%|          | 0/78 [00:00<?, ?it/s]"
      ]
     },
     "metadata": {},
     "output_type": "display_data"
    },
    {
     "name": "stdout",
     "output_type": "stream",
     "text": [
      "test accuracy: 0.7035999894142151\n"
     ]
    }
   ],
   "source": [
    "model = best_model\n",
    "\n",
    "model.eval()\n",
    "\n",
    "total = 0\n",
    "correct = 0\n",
    "\n",
    "for batch in tqdm(\n",
    "    test_dataloader,\n",
    "    total=len(test_dataloader.dataset) // test_dataloader.batch_size\n",
    "):\n",
    "    x = torch.tensor(batch['doc_ids'])\n",
    "    y = torch.tensor(batch['label'])\n",
    "    \n",
    "    if use_cuda:\n",
    "        x = x.cuda()\n",
    "        y = y.cuda()\n",
    "    \n",
    "    y_pred = model(x)\n",
    "    \n",
    "    curr_correct = y_pred.argmax(dim=1) == y\n",
    "    \n",
    "    total += len(curr_correct)\n",
    "    correct += sum(curr_correct)\n",
    "    \n",
    "print(f'test accuracy: {correct/total}')"
   ]
  },
  {
   "cell_type": "markdown",
   "metadata": {},
   "source": [
    "---\n",
    "## Visualize Attention"
   ]
  },
  {
   "cell_type": "code",
   "execution_count": 44,
   "metadata": {},
   "outputs": [
    {
     "name": "stdout",
     "output_type": "stream",
     "text": [
      "취향은 존중한다지만 진짜 내생에 극장에서 본 영화중 가장 노잼 노감동임 스토리도 어거지고 감동도 어거지\n"
     ]
    }
   ],
   "source": [
    "sample = df['document'].iloc[14]\n",
    "print(sample)"
   ]
  },
  {
   "cell_type": "code",
   "execution_count": 45,
   "metadata": {},
   "outputs": [],
   "source": [
    "tokenizer.use_padding = False\n",
    "token_ids = tokenizer(sample)"
   ]
  },
  {
   "cell_type": "code",
   "execution_count": 46,
   "metadata": {},
   "outputs": [
    {
     "data": {
      "text/plain": [
       "[3213, 1, 5, 1742, 215, 21, 257, 54, 543, 1, 132, 1, 287, 4777]"
      ]
     },
     "execution_count": 46,
     "metadata": {},
     "output_type": "execute_result"
    }
   ],
   "source": [
    "token_ids"
   ]
  },
  {
   "cell_type": "code",
   "execution_count": 47,
   "metadata": {},
   "outputs": [],
   "source": [
    "token_list = [idx_to_token[token_idx] for token_idx in token_ids]"
   ]
  },
  {
   "cell_type": "code",
   "execution_count": 48,
   "metadata": {},
   "outputs": [
    {
     "data": {
      "text/plain": [
       "[('취향은', 3213),\n",
       " ('[UNK]', 1),\n",
       " ('진짜', 5),\n",
       " ('내생에', 1742),\n",
       " ('극장에서', 215),\n",
       " ('본', 21),\n",
       " ('영화중', 257),\n",
       " ('가장', 54),\n",
       " ('노잼', 543),\n",
       " ('[UNK]', 1),\n",
       " ('스토리도', 132),\n",
       " ('[UNK]', 1),\n",
       " ('감동도', 287),\n",
       " ('어거지', 4777)]"
      ]
     },
     "execution_count": 48,
     "metadata": {},
     "output_type": "execute_result"
    }
   ],
   "source": [
    "list(zip(token_list, token_ids))"
   ]
  },
  {
   "cell_type": "code",
   "execution_count": 49,
   "metadata": {},
   "outputs": [
    {
     "data": {
      "text/plain": [
       "torch.Size([1, 14, 14])"
      ]
     },
     "execution_count": 49,
     "metadata": {},
     "output_type": "execute_result"
    }
   ],
   "source": [
    "_, attention_score = model.sr_model(torch.tensor([token_ids]), return_attention_score=True)\n",
    "# batch_size, seq, seq\n",
    "attention_score.shape"
   ]
  },
  {
   "cell_type": "code",
   "execution_count": 50,
   "metadata": {},
   "outputs": [],
   "source": [
    "attention_score_np = attention_score.squeeze(0).detach().numpy()"
   ]
  },
  {
   "cell_type": "code",
   "execution_count": 51,
   "metadata": {},
   "outputs": [
    {
     "data": {
      "image/png": "[encoded data removed]",
      "text/plain": [
       "<Figure size 1200x800 with 2 Axes>"
      ]
     },
     "metadata": {},
     "output_type": "display_data"
    }
   ],
   "source": [
    "import seaborn as sns\n",
    "import warnings\n",
    "warnings.filterwarnings('ignore')\n",
    "\n",
    "plt.figure(figsize=(12, 8))\n",
    "attention_vis = sns.heatmap(\n",
    "    attention_score_np,\n",
    "    xticklabels=token_list,\n",
    "    yticklabels=token_list\n",
    ")\n",
    "_ = attention_vis.set_xticklabels(attention_vis.get_xticklabels(), rotation=45)"
   ]
  }
 ],
 "metadata": {
  "kernelspec": {
   "display_name": "base",
   "language": "python",
   "name": "python3"
  },
  "language_info": {
   "codemirror_mode": {
    "name": "ipython",
    "version": 3
   },
   "file_extension": ".py",
   "mimetype": "text/x-python",
   "name": "python",
   "nbconvert_exporter": "python",
   "pygments_lexer": "ipython3",
   "version": "3.12.3"
  }
 },
 "nbformat": 4,
 "nbformat_minor": 2
}
