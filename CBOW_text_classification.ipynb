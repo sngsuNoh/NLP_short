{
 "cells": [
  {
   "cell_type": "markdown",
   "metadata": {},
   "source": [
    "# CBOW Text Classification"
   ]
  },
  {
   "cell_type": "markdown",
   "metadata": {},
   "source": [
    "## Data Check"
   ]
  },
  {
   "cell_type": "markdown",
   "metadata": {},
   "source": [
    "- NSMC 데이터\n",
    "    - Naver sentiment movie corpus v1.0\n",
    "    - 네이버 영화 댓글 감정분석 데이터셋\n",
    "    - 이진 분류\n",
    "- https://github.com/e9t/nsmc"
   ]
  },
  {
   "cell_type": "code",
   "execution_count": 63,
   "metadata": {},
   "outputs": [
    {
     "data": {
      "text/html": [
       "<div>\n",
       "<style scoped>\n",
       "    .dataframe tbody tr th:only-of-type {\n",
       "        vertical-align: middle;\n",
       "    }\n",
       "\n",
       "    .dataframe tbody tr th {\n",
       "        vertical-align: top;\n",
       "    }\n",
       "\n",
       "    .dataframe thead th {\n",
       "        text-align: right;\n",
       "    }\n",
       "</style>\n",
       "<table border=\"1\" class=\"dataframe\">\n",
       "  <thead>\n",
       "    <tr style=\"text-align: right;\">\n",
       "      <th></th>\n",
       "      <th>id</th>\n",
       "      <th>document</th>\n",
       "      <th>label</th>\n",
       "    </tr>\n",
       "  </thead>\n",
       "  <tbody>\n",
       "    <tr>\n",
       "      <th>0</th>\n",
       "      <td>9976970</td>\n",
       "      <td>아 더빙.. 진짜 짜증나네요 목소리</td>\n",
       "      <td>0</td>\n",
       "    </tr>\n",
       "    <tr>\n",
       "      <th>1</th>\n",
       "      <td>3819312</td>\n",
       "      <td>흠...포스터보고 초딩영화줄....오버연기조차 가볍지 않구나</td>\n",
       "      <td>1</td>\n",
       "    </tr>\n",
       "  </tbody>\n",
       "</table>\n",
       "</div>"
      ],
      "text/plain": [
       "        id                           document  label\n",
       "0  9976970                아 더빙.. 진짜 짜증나네요 목소리      0\n",
       "1  3819312  흠...포스터보고 초딩영화줄....오버연기조차 가볍지 않구나      1"
      ]
     },
     "execution_count": 63,
     "metadata": {},
     "output_type": "execute_result"
    }
   ],
   "source": [
    "import pandas as pd\n",
    "\n",
    "df = pd.read_csv('data/ratings_train.txt', sep='\\t')\n",
    "df.head(2)"
   ]
  },
  {
   "cell_type": "code",
   "execution_count": 64,
   "metadata": {},
   "outputs": [
    {
     "data": {
      "text/plain": [
       "label\n",
       "0    75173\n",
       "1    74827\n",
       "Name: count, dtype: int64"
      ]
     },
     "execution_count": 64,
     "metadata": {},
     "output_type": "execute_result"
    }
   ],
   "source": [
    "df['label'].value_counts()"
   ]
  },
  {
   "cell_type": "code",
   "execution_count": 65,
   "metadata": {},
   "outputs": [
    {
     "data": {
      "text/plain": [
       "id          0\n",
       "document    5\n",
       "label       0\n",
       "dtype: int64"
      ]
     },
     "execution_count": 65,
     "metadata": {},
     "output_type": "execute_result"
    }
   ],
   "source": [
    "df.isna().sum()"
   ]
  },
  {
   "cell_type": "code",
   "execution_count": 66,
   "metadata": {},
   "outputs": [
    {
     "data": {
      "text/plain": [
       "(149995, 3)"
      ]
     },
     "execution_count": 66,
     "metadata": {},
     "output_type": "execute_result"
    }
   ],
   "source": [
    "df = df.dropna(how='any', axis=0)\n",
    "df.shape"
   ]
  },
  {
   "cell_type": "markdown",
   "metadata": {},
   "source": [
    "## Tokenization"
   ]
  },
  {
   "cell_type": "code",
   "execution_count": 67,
   "metadata": {},
   "outputs": [],
   "source": [
    "vocab = set()\n",
    "for doc in df['document']:\n",
    "    for token in doc.split():\n",
    "        vocab.add(token)"
   ]
  },
  {
   "cell_type": "code",
   "execution_count": 68,
   "metadata": {},
   "outputs": [
    {
     "data": {
      "text/plain": [
       "357862"
      ]
     },
     "execution_count": 68,
     "metadata": {},
     "output_type": "execute_result"
    }
   ],
   "source": [
    "len(vocab)"
   ]
  },
  {
   "cell_type": "markdown",
   "metadata": {},
   "source": [
    "너무 많다"
   ]
  },
  {
   "cell_type": "code",
   "execution_count": 69,
   "metadata": {},
   "outputs": [],
   "source": [
    "vocab_cnt_dict = {}\n",
    "for doc in df['document']:\n",
    "    for token in doc.split():\n",
    "        if token not in vocab_cnt_dict:\n",
    "            vocab_cnt_dict[token] = 0\n",
    "        vocab_cnt_dict[token] += 1"
   ]
  },
  {
   "cell_type": "code",
   "execution_count": 70,
   "metadata": {},
   "outputs": [],
   "source": [
    "vocab_cnt_list = [(token, cnt) for token, cnt in vocab_cnt_dict.items()]"
   ]
  },
  {
   "cell_type": "code",
   "execution_count": 71,
   "metadata": {},
   "outputs": [
    {
     "data": {
      "text/plain": [
       "[('아', 1204), ('더빙..', 2), ('진짜', 5929), ('짜증나네요', 10), ('목소리', 99)]"
      ]
     },
     "execution_count": 71,
     "metadata": {},
     "output_type": "execute_result"
    }
   ],
   "source": [
    "vocab_cnt_list[:5]"
   ]
  },
  {
   "cell_type": "code",
   "execution_count": 72,
   "metadata": {},
   "outputs": [],
   "source": [
    "top_vocabs = sorted(vocab_cnt_list, key= lambda tup: tup[1], reverse=True)"
   ]
  },
  {
   "cell_type": "code",
   "execution_count": 73,
   "metadata": {},
   "outputs": [
    {
     "data": {
      "text/plain": [
       "[<matplotlib.lines.Line2D at 0x19695cac650>]"
      ]
     },
     "execution_count": 73,
     "metadata": {},
     "output_type": "execute_result"
    },
    {
     "data": {
      "image/png": "[encoded data removed]",
      "text/plain": [
       "<Figure size 640x480 with 1 Axes>"
      ]
     },
     "metadata": {},
     "output_type": "display_data"
    }
   ],
   "source": [
    "import matplotlib.pyplot as plt\n",
    "import numpy as np\n",
    "\n",
    "cnts = [cnt for _, cnt in top_vocabs]\n",
    "plt.plot(range(len(cnts)), cnts)"
   ]
  },
  {
   "cell_type": "markdown",
   "metadata": {},
   "source": [
    "자주 등장하는 단어들과 그렇지 않은 단어들의 차이가 매우 크다"
   ]
  },
  {
   "cell_type": "code",
   "execution_count": 74,
   "metadata": {},
   "outputs": [
    {
     "data": {
      "text/plain": [
       "3.1792590439890236"
      ]
     },
     "execution_count": 74,
     "metadata": {},
     "output_type": "execute_result"
    }
   ],
   "source": [
    "np.mean(cnts)"
   ]
  },
  {
   "cell_type": "code",
   "execution_count": 75,
   "metadata": {},
   "outputs": [
    {
     "data": {
      "text/plain": [
       "[10825, 8239, 7791, 5929, 5059, 3598, 3285, 3260, 3249, 3237]"
      ]
     },
     "execution_count": 75,
     "metadata": {},
     "output_type": "execute_result"
    }
   ],
   "source": [
    "cnts[:10]"
   ]
  },
  {
   "cell_type": "code",
   "execution_count": 76,
   "metadata": {},
   "outputs": [
    {
     "data": {
      "text/plain": [
       "42635"
      ]
     },
     "execution_count": 76,
     "metadata": {},
     "output_type": "execute_result"
    }
   ],
   "source": [
    "sum(np.array(cnts)>=3)"
   ]
  },
  {
   "cell_type": "code",
   "execution_count": 77,
   "metadata": {},
   "outputs": [],
   "source": [
    "n_vocab = sum(np.array(cnts)>=3)\n",
    "top_vocabs = top_vocabs[:n_vocab]"
   ]
  },
  {
   "cell_type": "code",
   "execution_count": 78,
   "metadata": {},
   "outputs": [
    {
     "data": {
      "text/plain": [
       "['영화', '너무', '정말', '진짜', '이']"
      ]
     },
     "execution_count": 78,
     "metadata": {},
     "output_type": "execute_result"
    }
   ],
   "source": [
    "vocabs = [token for token, _ in top_vocabs]\n",
    "vocabs[:5]"
   ]
  },
  {
   "cell_type": "markdown",
   "metadata": {},
   "source": [
    "## PAD, UNK Token"
   ]
  },
  {
   "cell_type": "code",
   "execution_count": 79,
   "metadata": {},
   "outputs": [],
   "source": [
    "# Token for Unknown Vocabs\n",
    "vocabs.insert(0, '[UNK]')"
   ]
  },
  {
   "cell_type": "code",
   "execution_count": 80,
   "metadata": {},
   "outputs": [],
   "source": [
    "# Token for Padding\n",
    "vocabs.insert(0, '[PAD]')"
   ]
  },
  {
   "cell_type": "code",
   "execution_count": 81,
   "metadata": {},
   "outputs": [],
   "source": [
    "idx_to_token = vocabs\n",
    "token_to_idx = {token:i for i, token in enumerate(idx_to_token)}"
   ]
  },
  {
   "cell_type": "code",
   "execution_count": 82,
   "metadata": {},
   "outputs": [],
   "source": [
    "class Tokenizer:\n",
    "    \n",
    "    def __init__(self, vocabs, use_padding=True, max_padding=64, pad_token='[PAD]', unk_token='[UNK]'):\n",
    "        self.idx_to_token = vocabs\n",
    "        self.token_to_idx = {token: i for i, token in enumerate(self.idx_to_token)}\n",
    "        \n",
    "        self.use_padding = use_padding\n",
    "        self.max_padding = max_padding\n",
    "        \n",
    "        self.pad_token = pad_token\n",
    "        self.unk_token = unk_token\n",
    "        \n",
    "        self.unk_token_idx = self.token_to_idx[self.unk_token]\n",
    "        self.pad_token_idx = self.token_to_idx[self.pad_token]\n",
    "        \n",
    "    def __call__(self, x:str):\n",
    "        token_ids = []\n",
    "        token_list = x.split()\n",
    "        \n",
    "        for token in token_list:\n",
    "            if token in self.token_to_idx:\n",
    "                token_idx = self.token_to_idx[token]\n",
    "            else:\n",
    "                token_idx = self.unk_token_idx\n",
    "            token_ids.append(token_idx)\n",
    "        \n",
    "        if self.use_padding:\n",
    "            token_ids = token_ids[:self.max_padding]\n",
    "            n_pads = self.max_padding - len(token_ids)\n",
    "            token_ids = token_ids + [self.pad_token_idx] * n_pads\n",
    "        \n",
    "        return token_ids"
   ]
  },
  {
   "cell_type": "code",
   "execution_count": 83,
   "metadata": {},
   "outputs": [],
   "source": [
    "tokenizer = Tokenizer(vocabs, use_padding=False)"
   ]
  },
  {
   "cell_type": "code",
   "execution_count": 84,
   "metadata": {},
   "outputs": [
    {
     "name": "stdout",
     "output_type": "stream",
     "text": [
      "아 더빙.. 진짜 짜증나네요 목소리\n"
     ]
    }
   ],
   "source": [
    "sample = df['document'].iloc[0]\n",
    "print(sample)"
   ]
  },
  {
   "cell_type": "code",
   "execution_count": 85,
   "metadata": {},
   "outputs": [
    {
     "data": {
      "text/plain": [
       "[51, 1, 5, 10485, 1064]"
      ]
     },
     "execution_count": 85,
     "metadata": {},
     "output_type": "execute_result"
    }
   ],
   "source": [
    "tokenizer(sample)"
   ]
  },
  {
   "cell_type": "code",
   "execution_count": 86,
   "metadata": {},
   "outputs": [],
   "source": [
    "token_length_list = []\n",
    "for sample in df['document']:\n",
    "    token_length_list.append(len(tokenizer(sample)))"
   ]
  },
  {
   "cell_type": "code",
   "execution_count": 87,
   "metadata": {},
   "outputs": [
    {
     "data": {
      "text/plain": [
       "Text(0, 0.5, 'cnt')"
      ]
     },
     "execution_count": 87,
     "metadata": {},
     "output_type": "execute_result"
    },
    {
     "data": {
      "image/png": "[encoded data removed]",
      "text/plain": [
       "<Figure size 640x480 with 1 Axes>"
      ]
     },
     "metadata": {},
     "output_type": "display_data"
    }
   ],
   "source": [
    "plt.hist(token_length_list)\n",
    "plt.xlabel('token length')\n",
    "plt.ylabel('cnt')"
   ]
  },
  {
   "cell_type": "code",
   "execution_count": 88,
   "metadata": {},
   "outputs": [
    {
     "data": {
      "text/plain": [
       "41"
      ]
     },
     "execution_count": 88,
     "metadata": {},
     "output_type": "execute_result"
    }
   ],
   "source": [
    "max(token_length_list)"
   ]
  },
  {
   "cell_type": "code",
   "execution_count": 89,
   "metadata": {},
   "outputs": [],
   "source": [
    "tokenizer = Tokenizer(\n",
    "    vocabs,\n",
    "    use_padding=True,\n",
    "    max_padding=50,\n",
    "    pad_token='[PAD]',\n",
    "    unk_token='[UNK]'\n",
    ")"
   ]
  },
  {
   "cell_type": "code",
   "execution_count": 90,
   "metadata": {},
   "outputs": [
    {
     "data": {
      "text/plain": [
       "(50, [201, 2, 3635, 1, 121, 1946, 2, 0, 0, 0])"
      ]
     },
     "execution_count": 90,
     "metadata": {},
     "output_type": "execute_result"
    }
   ],
   "source": [
    "len(tokenizer(sample)), tokenizer(sample)[:10]"
   ]
  },
  {
   "cell_type": "markdown",
   "metadata": {},
   "source": [
    "## DataLoader"
   ]
  },
  {
   "cell_type": "code",
   "execution_count": 91,
   "metadata": {},
   "outputs": [],
   "source": [
    "import torch\n",
    "from torch.utils.data import Dataset, DataLoader"
   ]
  },
  {
   "cell_type": "code",
   "execution_count": 92,
   "metadata": {},
   "outputs": [],
   "source": [
    "train_valid_df = pd.read_csv('data/ratings_train.txt', sep='\\t')\n",
    "test_df = pd.read_csv('data/ratings_test.txt', sep='\\t')"
   ]
  },
  {
   "cell_type": "code",
   "execution_count": 93,
   "metadata": {},
   "outputs": [
    {
     "data": {
      "text/plain": [
       "(150000, 50000)"
      ]
     },
     "execution_count": 93,
     "metadata": {},
     "output_type": "execute_result"
    }
   ],
   "source": [
    "len(train_valid_df), len(test_df)"
   ]
  },
  {
   "cell_type": "code",
   "execution_count": 94,
   "metadata": {},
   "outputs": [],
   "source": [
    "train_valid_df = train_valid_df.sample(frac=1.)"
   ]
  },
  {
   "cell_type": "code",
   "execution_count": 95,
   "metadata": {},
   "outputs": [],
   "source": [
    "train_ratio = 0.8\n",
    "n_train = int(len(train_valid_df) * train_ratio)\n",
    "\n",
    "train_df = train_valid_df[:n_train]\n",
    "valid_df = train_valid_df[n_train:]"
   ]
  },
  {
   "cell_type": "code",
   "execution_count": 96,
   "metadata": {},
   "outputs": [
    {
     "data": {
      "text/plain": [
       "(120000, 30000, 50000)"
      ]
     },
     "execution_count": 96,
     "metadata": {},
     "output_type": "execute_result"
    }
   ],
   "source": [
    "len(train_df), len(valid_df), len(test_df)"
   ]
  },
  {
   "cell_type": "code",
   "execution_count": 97,
   "metadata": {},
   "outputs": [],
   "source": [
    "train_df = train_df.sample(frac=0.1)\n",
    "valid_df = valid_df.sample(frac=0.1)\n",
    "test_df = test_df.sample(frac=0.1)"
   ]
  },
  {
   "cell_type": "code",
   "execution_count": 98,
   "metadata": {},
   "outputs": [],
   "source": [
    "class NSMCDataset(Dataset):\n",
    "    \n",
    "    def __init__(self, data_df, tokenizer=None):\n",
    "        self.data_df = data_df\n",
    "        self.tokenizer = tokenizer\n",
    "    \n",
    "    def __len__(self):\n",
    "        return len(self.data_df)\n",
    "    \n",
    "    def __getitem__(self, idx):\n",
    "        sample_raw = self.data_df.iloc[idx]\n",
    "        sample = {}\n",
    "        \n",
    "        sample['doc'] = str(sample_raw['document'])\n",
    "        sample['label'] = int(sample_raw['label'])\n",
    "        \n",
    "        assert sample['label'] in set([0, 1])\n",
    "        \n",
    "        if self.tokenizer is not None:\n",
    "            sample['doc_ids'] = self.tokenizer(sample['doc'])\n",
    "        \n",
    "        return sample"
   ]
  },
  {
   "cell_type": "code",
   "execution_count": 99,
   "metadata": {},
   "outputs": [],
   "source": [
    "def collate_fn(batch):\n",
    "    keys = [key for key in batch[0].keys()]\n",
    "    data = {key: [] for key in keys}\n",
    "    \n",
    "    for item in batch:\n",
    "        for key in keys:\n",
    "            data[key].append(item[key])\n",
    "    \n",
    "    return data"
   ]
  },
  {
   "cell_type": "code",
   "execution_count": 100,
   "metadata": {},
   "outputs": [],
   "source": [
    "train_dataset = NSMCDataset(\n",
    "    data_df=train_df,\n",
    "    tokenizer=tokenizer\n",
    ")\n",
    "valid_dataset = NSMCDataset(\n",
    "    data_df=valid_df,\n",
    "    tokenizer=tokenizer\n",
    ")\n",
    "test_dataset = NSMCDataset(\n",
    "    data_df=test_df,\n",
    "    tokenizer=tokenizer\n",
    ")\n",
    "\n",
    "train_dataloader = DataLoader(train_dataset,\n",
    "                              batch_size=128,\n",
    "                              collate_fn=collate_fn,\n",
    "                              shuffle=True)\n",
    "valid_dataloader = DataLoader(valid_dataset,\n",
    "                              batch_size=128,\n",
    "                              collate_fn=collate_fn,\n",
    "                              shuffle=False)\n",
    "test_dataloader = DataLoader(test_dataset,\n",
    "                             batch_size=128,\n",
    "                             collate_fn=collate_fn,\n",
    "                             shuffle=False)"
   ]
  },
  {
   "cell_type": "code",
   "execution_count": 101,
   "metadata": {},
   "outputs": [],
   "source": [
    "sample = next(iter(test_dataloader))"
   ]
  },
  {
   "cell_type": "code",
   "execution_count": 102,
   "metadata": {},
   "outputs": [
    {
     "data": {
      "text/plain": [
       "dict_keys(['doc', 'label', 'doc_ids'])"
      ]
     },
     "execution_count": 102,
     "metadata": {},
     "output_type": "execute_result"
    }
   ],
   "source": [
    "sample.keys()"
   ]
  },
  {
   "cell_type": "code",
   "execution_count": 103,
   "metadata": {},
   "outputs": [
    {
     "data": {
      "text/plain": [
       "'많이 힘들엇구나..인피니트사랑해♡'"
      ]
     },
     "execution_count": 103,
     "metadata": {},
     "output_type": "execute_result"
    }
   ],
   "source": [
    "sample['doc'][2]"
   ]
  },
  {
   "cell_type": "code",
   "execution_count": 104,
   "metadata": {},
   "outputs": [
    {
     "data": {
      "text/plain": [
       "[41, 1, 0, 0, 0, 0, 0, 0, 0, 0]"
      ]
     },
     "execution_count": 104,
     "metadata": {},
     "output_type": "execute_result"
    }
   ],
   "source": [
    "sample['doc_ids'][2][:10]"
   ]
  },
  {
   "cell_type": "markdown",
   "metadata": {},
   "source": [
    "## CBOW model"
   ]
  },
  {
   "cell_type": "code",
   "execution_count": 105,
   "metadata": {},
   "outputs": [],
   "source": [
    "import torch\n",
    "import torch.nn as nn\n",
    "\n",
    "class CBOW(nn.Module):\n",
    "    \n",
    "    def __init__(self, vocab_size, embed_dim):\n",
    "        super().__init__()\n",
    "        \n",
    "        self.output_dim = embed_dim\n",
    "        # embedding을 lookup해서 사용하지 않도록 padding=0\n",
    "        self.embeddings = nn.Embedding(vocab_size, embed_dim, padding_idx=0)\n",
    "    \n",
    "    def forward(self, x):\n",
    "        # (batch_size, seq) -> (batch_size, seq, embed_dim)\n",
    "        x_embeded = self.embeddings(x)\n",
    "        # batch_size x embed_dim\n",
    "        stnc_repr = torch.mean(x_embeded, dim=1) \n",
    "        \n",
    "        return stnc_repr"
   ]
  },
  {
   "cell_type": "code",
   "execution_count": 106,
   "metadata": {},
   "outputs": [],
   "source": [
    "class Classifier(nn.Module):\n",
    "    \n",
    "    def __init__(self, sr_model, output_dim, vocab_size, embed_dim, **kwargs):\n",
    "        super().__init__()\n",
    "        \n",
    "        self.sr_model = sr_model(vocab_size=vocab_size,\n",
    "                                 embed_dim=embed_dim,\n",
    "                                 **kwargs)\n",
    "        self.input_dim = self.sr_model.output_dim\n",
    "        self.output_dim = output_dim\n",
    "        self.fc = nn.Linear(self.input_dim, self.output_dim)\n",
    "        \n",
    "    def forward(self, x):\n",
    "        return self.fc(self.sr_model(x))"
   ]
  },
  {
   "cell_type": "code",
   "execution_count": 107,
   "metadata": {},
   "outputs": [],
   "source": [
    "model = Classifier(sr_model=CBOW,\n",
    "                   output_dim=2,\n",
    "                   vocab_size=len(vocabs),\n",
    "                   embed_dim=16)"
   ]
  },
  {
   "cell_type": "code",
   "execution_count": 108,
   "metadata": {},
   "outputs": [
    {
     "data": {
      "text/plain": [
       "tensor([0., 0., 0., 0., 0., 0., 0., 0., 0., 0., 0., 0., 0., 0., 0., 0.],\n",
       "       grad_fn=<SelectBackward0>)"
      ]
     },
     "execution_count": 108,
     "metadata": {},
     "output_type": "execute_result"
    }
   ],
   "source": [
    "# nn.Embedding(vocab_size, embed_dim, padding_idx=0)\n",
    "# padding_idx를 설정하면 embedding은 0으로 초기화\n",
    "# padding idx의 embedding은 gradient 계산 X -> 업데이트 X\n",
    "\n",
    "model.sr_model.embeddings.weight[0]"
   ]
  },
  {
   "cell_type": "markdown",
   "metadata": {},
   "source": [
    "## Training"
   ]
  },
  {
   "cell_type": "code",
   "execution_count": 109,
   "metadata": {},
   "outputs": [],
   "source": [
    "use_cuda = True and torch.cuda.is_available()\n",
    "\n",
    "if use_cuda:\n",
    "    model.cuda()"
   ]
  },
  {
   "cell_type": "code",
   "execution_count": 110,
   "metadata": {},
   "outputs": [],
   "source": [
    "import torch.optim as optim\n",
    "import numpy as np\n",
    "from copy import deepcopy"
   ]
  },
  {
   "cell_type": "code",
   "execution_count": 111,
   "metadata": {},
   "outputs": [],
   "source": [
    "optimizer = optim.Adam(params=model.parameters(), lr=0.01)\n",
    "calc_loss = nn.CrossEntropyLoss()"
   ]
  },
  {
   "cell_type": "code",
   "execution_count": 112,
   "metadata": {},
   "outputs": [
    {
     "name": "stdout",
     "output_type": "stream",
     "text": [
      "global_i: 0, epoch_i: 0, loss: 0.6902557015419006\n",
      "******************************\n",
      "valid_loss_mean: 0.6485407973329226\n",
      "******************************\n",
      "******************************\n",
      "valid_loss_mean: 0.5320487481852373\n",
      "******************************\n",
      "******************************\n",
      "valid_loss_mean: 0.5483894894520441\n",
      "******************************\n",
      "******************************\n",
      "valid_loss_mean: 0.5933750495314598\n",
      "******************************\n",
      "******************************\n",
      "valid_loss_mean: 0.6517514946560065\n",
      "******************************\n",
      "best_epoch_i: 2\n"
     ]
    }
   ],
   "source": [
    "n_epoch = 10\n",
    "global_i = 0\n",
    "\n",
    "# [(global_i, loss)]\n",
    "valid_loss_hist = []\n",
    "train_loss_hist = []\n",
    "\n",
    "min_valid_loss = 9e+9\n",
    "best_model = None\n",
    "best_epoch_i = None\n",
    "\n",
    "ema_train_loss = None\n",
    "\n",
    "for epoch_i in range(n_epoch):\n",
    "    model.train()\n",
    "    \n",
    "    for batch in train_dataloader:\n",
    "        optimizer.zero_grad()\n",
    "        x = torch.tensor(batch['doc_ids'])\n",
    "        y = torch.tensor(batch['label'])\n",
    "        \n",
    "        if use_cuda:\n",
    "            x = x.cuda()\n",
    "            y = y.cuda()\n",
    "        \n",
    "        y_pred = model(x)\n",
    "        loss = calc_loss(y_pred, y)\n",
    "        \n",
    "        if global_i % 1000 == 0:\n",
    "            print(f'global_i: {global_i}, epoch_i: {epoch_i}, loss: {loss.item()}')\n",
    "            \n",
    "        train_loss_hist.append((global_i, loss.item()))\n",
    "        \n",
    "        loss.backward()\n",
    "        optimizer.step()\n",
    "        global_i += 1\n",
    "    \n",
    "    model.eval()\n",
    "    \n",
    "    # validation\n",
    "    valid_loss_list = []\n",
    "    for batch in valid_dataloader:\n",
    "        x = torch.tensor(batch['doc_ids'])\n",
    "        y = torch.tensor(batch['label'])\n",
    "        \n",
    "        if use_cuda:\n",
    "            x = x.cuda()\n",
    "            y = y.cuda()\n",
    "            \n",
    "        y_pred = model(x)\n",
    "        loss = calc_loss(y_pred, y)\n",
    "        valid_loss_list.append(loss.item())\n",
    "        \n",
    "    valid_loss_mean = np.mean(valid_loss_list)\n",
    "    valid_loss_hist.append((global_i, valid_loss_mean.item()))\n",
    "    \n",
    "    if valid_loss_mean < min_valid_loss:\n",
    "        min_valid_loss = valid_loss_mean\n",
    "        best_epoch_i = epoch_i\n",
    "        best_model = deepcopy(model)\n",
    "    \n",
    "    if epoch_i % 2 == 0:\n",
    "        print('*'*30)\n",
    "        print(f'valid_loss_mean: {valid_loss_mean}')\n",
    "        print('*'*30)\n",
    "\n",
    "print(f'best_epoch_i: {best_epoch_i}')"
   ]
  },
  {
   "cell_type": "markdown",
   "metadata": {},
   "source": [
    "## Learning Curve"
   ]
  },
  {
   "cell_type": "code",
   "execution_count": 113,
   "metadata": {},
   "outputs": [],
   "source": [
    "def calc_moving_average(arr, win_size=100):\n",
    "    new_arr = []\n",
    "    win = []\n",
    "    \n",
    "    for i, val in enumerate(arr):\n",
    "        win.append(val)\n",
    "        if len(win) > win_size:\n",
    "            win.pop(0)\n",
    "        \n",
    "        new_arr.append(np.mean(win))\n",
    "        \n",
    "    return np.array(new_arr)"
   ]
  },
  {
   "cell_type": "code",
   "execution_count": 114,
   "metadata": {},
   "outputs": [
    {
     "data": {
      "text/plain": [
       "Text(0, 0.5, 'loss')"
      ]
     },
     "execution_count": 114,
     "metadata": {},
     "output_type": "execute_result"
    },
    {
     "data": {
      "image/png": "[encoded data removed]",
      "text/plain": [
       "<Figure size 640x480 with 1 Axes>"
      ]
     },
     "metadata": {},
     "output_type": "display_data"
    }
   ],
   "source": [
    "valid_loss_hist = np.array(valid_loss_hist)\n",
    "train_loss_hist = np.array(train_loss_hist)\n",
    "\n",
    "plt.Figure(figsize=(12, 8))\n",
    "plt.plot(train_loss_hist[:, 0], calc_moving_average(train_loss_hist[:, 1]), color='blue')\n",
    "plt.plot(valid_loss_hist[:, 0], valid_loss_hist[:, 1], color='red')\n",
    "plt.xlabel('step')\n",
    "plt.ylabel('loss')"
   ]
  },
  {
   "cell_type": "code",
   "execution_count": null,
   "metadata": {},
   "outputs": [],
   "source": []
  }
 ],
 "metadata": {
  "kernelspec": {
   "display_name": "base",
   "language": "python",
   "name": "python3"
  },
  "language_info": {
   "codemirror_mode": {
    "name": "ipython",
    "version": 3
   },
   "file_extension": ".py",
   "mimetype": "text/x-python",
   "name": "python",
   "nbconvert_exporter": "python",
   "pygments_lexer": "ipython3",
   "version": "3.12.3"
  }
 },
 "nbformat": 4,
 "nbformat_minor": 2
}
